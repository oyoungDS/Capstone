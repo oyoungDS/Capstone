{
 "cells": [
  {
   "cell_type": "code",
   "execution_count": 1,
   "metadata": {
    "collapsed": true
   },
   "outputs": [],
   "source": [
    "import pandas as pd"
   ]
  },
  {
   "cell_type": "code",
   "execution_count": 2,
   "outputs": [],
   "source": [
    "#Load business file\n",
    "\n",
    "df_b = pd.read_json(\"yelp_academic_dataset_business.json\", lines=True)"
   ],
   "metadata": {
    "collapsed": false,
    "pycharm": {
     "name": "#%%\n"
    }
   }
  },
  {
   "cell_type": "code",
   "execution_count": 3,
   "outputs": [
    {
     "data": {
      "text/plain": "              business_id                     name              address  \\\n0  6iYb2HFDywm3zjuRg0shjw      Oskar Blues Taproom         921 Pearl St   \n1  tCbdrRPZA0oiIYSmHG3J0w  Flying Elephants at PDX  7000 NE Airport Way   \n2  bvN78flM8NLprQ1a1y5dRg           The Reclaimory   4720 Hawthorne Ave   \n3  oaepsyvc0J17qwi8cfrOWg              Great Clips   2566 Enterprise Rd   \n4  PE9uqAjdw0E4-8mjGl3wVA        Crossfit Terminus  1046 Memorial Dr SE   \n\n          city state postal_code   latitude   longitude  stars  review_count  \\\n0      Boulder    CO       80302  40.017544 -105.283348    4.0            86   \n1     Portland    OR       97218  45.588906 -122.593331    4.0           126   \n2     Portland    OR       97214  45.511907 -122.613693    4.5            13   \n3  Orange City    FL       32763  28.914482  -81.295979    3.0             8   \n4      Atlanta    GA       30316  33.747027  -84.353424    4.0            14   \n\n   is_open                                         attributes  \\\n0        1  {'RestaurantsTableService': 'True', 'WiFi': 'u...   \n1        1  {'RestaurantsTakeOut': 'True', 'RestaurantsAtt...   \n2        1  {'BusinessAcceptsCreditCards': 'True', 'Restau...   \n3        1  {'RestaurantsPriceRange2': '1', 'BusinessAccep...   \n4        1  {'GoodForKids': 'False', 'BusinessParking': '{...   \n\n                                          categories  \\\n0  Gastropubs, Food, Beer Gardens, Restaurants, B...   \n1  Salad, Soup, Sandwiches, Delis, Restaurants, C...   \n2  Antiques, Fashion, Used, Vintage & Consignment...   \n3                         Beauty & Spas, Hair Salons   \n4  Gyms, Active Life, Interval Training Gyms, Fit...   \n\n                                               hours  \n0  {'Monday': '11:0-23:0', 'Tuesday': '11:0-23:0'...  \n1  {'Monday': '5:0-18:0', 'Tuesday': '5:0-17:0', ...  \n2  {'Thursday': '11:0-18:0', 'Friday': '11:0-18:0...  \n3                                               None  \n4  {'Monday': '16:0-19:0', 'Tuesday': '16:0-19:0'...  ",
      "text/html": "<div>\n<style scoped>\n    .dataframe tbody tr th:only-of-type {\n        vertical-align: middle;\n    }\n\n    .dataframe tbody tr th {\n        vertical-align: top;\n    }\n\n    .dataframe thead th {\n        text-align: right;\n    }\n</style>\n<table border=\"1\" class=\"dataframe\">\n  <thead>\n    <tr style=\"text-align: right;\">\n      <th></th>\n      <th>business_id</th>\n      <th>name</th>\n      <th>address</th>\n      <th>city</th>\n      <th>state</th>\n      <th>postal_code</th>\n      <th>latitude</th>\n      <th>longitude</th>\n      <th>stars</th>\n      <th>review_count</th>\n      <th>is_open</th>\n      <th>attributes</th>\n      <th>categories</th>\n      <th>hours</th>\n    </tr>\n  </thead>\n  <tbody>\n    <tr>\n      <th>0</th>\n      <td>6iYb2HFDywm3zjuRg0shjw</td>\n      <td>Oskar Blues Taproom</td>\n      <td>921 Pearl St</td>\n      <td>Boulder</td>\n      <td>CO</td>\n      <td>80302</td>\n      <td>40.017544</td>\n      <td>-105.283348</td>\n      <td>4.0</td>\n      <td>86</td>\n      <td>1</td>\n      <td>{'RestaurantsTableService': 'True', 'WiFi': 'u...</td>\n      <td>Gastropubs, Food, Beer Gardens, Restaurants, B...</td>\n      <td>{'Monday': '11:0-23:0', 'Tuesday': '11:0-23:0'...</td>\n    </tr>\n    <tr>\n      <th>1</th>\n      <td>tCbdrRPZA0oiIYSmHG3J0w</td>\n      <td>Flying Elephants at PDX</td>\n      <td>7000 NE Airport Way</td>\n      <td>Portland</td>\n      <td>OR</td>\n      <td>97218</td>\n      <td>45.588906</td>\n      <td>-122.593331</td>\n      <td>4.0</td>\n      <td>126</td>\n      <td>1</td>\n      <td>{'RestaurantsTakeOut': 'True', 'RestaurantsAtt...</td>\n      <td>Salad, Soup, Sandwiches, Delis, Restaurants, C...</td>\n      <td>{'Monday': '5:0-18:0', 'Tuesday': '5:0-17:0', ...</td>\n    </tr>\n    <tr>\n      <th>2</th>\n      <td>bvN78flM8NLprQ1a1y5dRg</td>\n      <td>The Reclaimory</td>\n      <td>4720 Hawthorne Ave</td>\n      <td>Portland</td>\n      <td>OR</td>\n      <td>97214</td>\n      <td>45.511907</td>\n      <td>-122.613693</td>\n      <td>4.5</td>\n      <td>13</td>\n      <td>1</td>\n      <td>{'BusinessAcceptsCreditCards': 'True', 'Restau...</td>\n      <td>Antiques, Fashion, Used, Vintage &amp; Consignment...</td>\n      <td>{'Thursday': '11:0-18:0', 'Friday': '11:0-18:0...</td>\n    </tr>\n    <tr>\n      <th>3</th>\n      <td>oaepsyvc0J17qwi8cfrOWg</td>\n      <td>Great Clips</td>\n      <td>2566 Enterprise Rd</td>\n      <td>Orange City</td>\n      <td>FL</td>\n      <td>32763</td>\n      <td>28.914482</td>\n      <td>-81.295979</td>\n      <td>3.0</td>\n      <td>8</td>\n      <td>1</td>\n      <td>{'RestaurantsPriceRange2': '1', 'BusinessAccep...</td>\n      <td>Beauty &amp; Spas, Hair Salons</td>\n      <td>None</td>\n    </tr>\n    <tr>\n      <th>4</th>\n      <td>PE9uqAjdw0E4-8mjGl3wVA</td>\n      <td>Crossfit Terminus</td>\n      <td>1046 Memorial Dr SE</td>\n      <td>Atlanta</td>\n      <td>GA</td>\n      <td>30316</td>\n      <td>33.747027</td>\n      <td>-84.353424</td>\n      <td>4.0</td>\n      <td>14</td>\n      <td>1</td>\n      <td>{'GoodForKids': 'False', 'BusinessParking': '{...</td>\n      <td>Gyms, Active Life, Interval Training Gyms, Fit...</td>\n      <td>{'Monday': '16:0-19:0', 'Tuesday': '16:0-19:0'...</td>\n    </tr>\n  </tbody>\n</table>\n</div>"
     },
     "execution_count": 3,
     "metadata": {},
     "output_type": "execute_result"
    }
   ],
   "source": [
    "#First five rows\n",
    "df_b.head()"
   ],
   "metadata": {
    "collapsed": false,
    "pycharm": {
     "name": "#%%\n"
    }
   }
  },
  {
   "cell_type": "code",
   "execution_count": 4,
   "outputs": [],
   "source": [
    "#Clean Business File\n",
    "df_b = df_b[df_b['is_open']==1].drop([\"postal_code\", \"latitude\", \"longitude\", \"hours\"], axis=1)"
   ],
   "metadata": {
    "collapsed": false,
    "pycharm": {
     "name": "#%%\n"
    }
   }
  },
  {
   "cell_type": "code",
   "execution_count": 5,
   "outputs": [
    {
     "data": {
      "text/plain": "Restaurants                  32022\nFood                         20418\nShopping                     20309\nHome Services                14795\nHealth & Medical             13630\nBeauty & Spas                13569\nLocal Services               10677\nAutomotive                    8886\nEvent Planning & Services     7856\nNightlife                     7829\nActive Life                   7675\nBars                          7008\nCoffee & Tea                  5476\nHotels & Travel               5032\nSandwiches                    4795\nName: categories, dtype: int64"
     },
     "execution_count": 5,
     "metadata": {},
     "output_type": "execute_result"
    }
   ],
   "source": [
    "#List categories\n",
    "df_explode = df_b.assign(categories = df_b.categories\n",
    "                         .str.split(', ')).explode('categories')\n",
    "df_explode.categories.value_counts()[:15]"
   ],
   "metadata": {
    "collapsed": false,
    "pycharm": {
     "name": "#%%\n"
    }
   }
  },
  {
   "cell_type": "code",
   "execution_count": 6,
   "outputs": [
    {
     "data": {
      "text/plain": "Restaurants           32022\nPop-Up Restaurants       48\nName: categories, dtype: int64"
     },
     "execution_count": 6,
     "metadata": {},
     "output_type": "execute_result"
    }
   ],
   "source": [
    "#List all categories with restaurant\n",
    "df_explode[df_explode.categories.str.contains('Restaurants',\n",
    "                      case=True,na=False)].categories.value_counts()"
   ],
   "metadata": {
    "collapsed": false,
    "pycharm": {
     "name": "#%%\n"
    }
   }
  },
  {
   "cell_type": "code",
   "execution_count": 7,
   "outputs": [
    {
     "name": "stdout",
     "output_type": "stream",
     "text": [
      "Before State (32022, 10)\n",
      "After State (4728, 10)\n"
     ]
    }
   ],
   "source": [
    "#Keep only restaurants in British Columbia\n",
    "restaurant = df_b[df_b['categories'].str.contains(\n",
    "              'Restaurants',\n",
    "              case=False, na=False)]\n",
    "print(\"Before State {}\".format(restaurant.shape))\n",
    "restaurant =  restaurant[restaurant['state'].str.contains(\n",
    "              'BC',\n",
    "              case=False, na=False)]\n",
    "print(\"After State {}\".format(restaurant.shape))"
   ],
   "metadata": {
    "collapsed": false,
    "pycharm": {
     "name": "#%%\n"
    }
   }
  },
  {
   "cell_type": "code",
   "execution_count": 8,
   "outputs": [
    {
     "name": "stdout",
     "output_type": "stream",
     "text": [
      "Before City (4728, 10)\n",
      "After City (2798, 10)\n"
     ]
    }
   ],
   "source": [
    "#Keep only restaurants in Vancouver\n",
    "print(\"Before City {}\".format(restaurant.shape))\n",
    "restaurant = restaurant[restaurant['city'].str.contains(\n",
    "              'Vancouver',\n",
    "              case=False, na=False)]\n",
    "print(\"After City {}\".format(restaurant.shape))"
   ],
   "metadata": {
    "collapsed": false,
    "pycharm": {
     "name": "#%%\n"
    }
   }
  },
  {
   "cell_type": "code",
   "execution_count": 9,
   "outputs": [
    {
     "name": "stdout",
     "output_type": "stream",
     "text": [
      "Before Sushi (2798, 10)\n",
      "After Sushi (235, 10)\n"
     ]
    }
   ],
   "source": [
    "#Keep only sushi restaurants\n",
    "print(\"Before Sushi {}\".format(restaurant.shape))\n",
    "restaurant = restaurant[restaurant['categories'].str.contains(\n",
    "             'Sushi',\n",
    "              case=False, na=False)]\n",
    "print(\"After Sushi {}\".format(restaurant.shape))"
   ],
   "metadata": {
    "collapsed": false,
    "pycharm": {
     "name": "#%%\n"
    }
   }
  },
  {
   "cell_type": "code",
   "execution_count": 10,
   "outputs": [
    {
     "name": "stdout",
     "output_type": "stream",
     "text": [
      "Before review count (235, 10)\n",
      "After review count (72, 10)\n"
     ]
    }
   ],
   "source": [
    "#Keep only sushi restaurants\n",
    "print(\"Before review count {}\".format(restaurant.shape))\n",
    "restaurant = restaurant[restaurant['review_count'] >= 100]\n",
    "print(\"After review count {}\".format(restaurant.shape))"
   ],
   "metadata": {
    "collapsed": false,
    "pycharm": {
     "name": "#%%\n"
    }
   }
  },
  {
   "cell_type": "code",
   "execution_count": 11,
   "outputs": [],
   "source": [
    "#Loading review file\n",
    "size = 1000000\n",
    "df_review = pd.read_json(\"yelp_academic_dataset_review.json\", lines=True,dtype={'review_id':str,'user_id':str,'business_id':str,'stars':int,\n",
    "                             'date':str,'text':str,'useful':int,'funny':int,'cool':int},\n",
    "                      chunksize=size)"
   ],
   "metadata": {
    "collapsed": false,
    "pycharm": {
     "name": "#%%\n"
    }
   }
  },
  {
   "cell_type": "code",
   "execution_count": 12,
   "outputs": [
    {
     "name": "stdout",
     "output_type": "stream",
     "text": [
      "1945 out of 1,000,000 related reviews\n",
      "857 out of 1,000,000 related reviews\n",
      "1375 out of 1,000,000 related reviews\n",
      "3989 out of 1,000,000 related reviews\n",
      "2805 out of 1,000,000 related reviews\n",
      "1436 out of 1,000,000 related reviews\n",
      "2667 out of 1,000,000 related reviews\n",
      "1212 out of 1,000,000 related reviews\n",
      "1637 out of 1,000,000 related reviews\n"
     ]
    }
   ],
   "source": [
    "# There are multiple chunks to be read\n",
    "chunk_list = []\n",
    "for chunk in df_review:\n",
    "    # Drop columns that aren't needed\n",
    "    chunk = chunk.drop(['useful','funny','cool', 'date'], axis=1)\n",
    "    # Renaming column name to avoid conflict with business overall star rating\n",
    "    chunk = chunk.rename(columns={'stars': 'review_stars'})\n",
    "    # Inner merge with edited business file so only reviews related to the business remain\n",
    "    chunk_merged = pd.merge(restaurant, chunk, on='business_id', how='inner')\n",
    "    # Show feedback on progress\n",
    "    print(f\"{chunk_merged.shape[0]} out of {size:,} related reviews\")\n",
    "    chunk_list.append(chunk_merged)"
   ],
   "metadata": {
    "collapsed": false,
    "pycharm": {
     "name": "#%%\n"
    }
   }
  },
  {
   "cell_type": "code",
   "execution_count": 13,
   "outputs": [
    {
     "data": {
      "text/plain": "                  business_id                        name  \\\n8502   4EV_ZcQmjAmP3pmO-_nb2A                        Miku   \n16809  8HH7xRjmjwzkhADZWir_Cw          Black Rice Izakaya   \n12842  I0r8kMimYW2BY6lINcZRFA  Kishimoto Japanese Kitchen   \n\n                              address       city state  stars  review_count  \\\n8502   200 Granville Street, Suite 70  Vancouver    BC    4.5          1805   \n16809               782 Cambie Street  Vancouver    BC    4.0           238   \n12842           2054 Commercial Drive  Vancouver    BC    4.5           469   \n\n       is_open                                         attributes  \\\n8502         1  {'RestaurantsAttire': ''casual'', 'BikeParking...   \n16809        1  {'WiFi': 'u'free'', 'RestaurantsPriceRange2': ...   \n12842        1  {'HasTV': 'False', 'WiFi': 'u'no'', 'Alcohol':...   \n\n                                              categories  \\\n8502                   Japanese, Sushi Bars, Restaurants   \n16809  Tapas Bars, Restaurants, Tapas/Small Plates, J...   \n12842                  Restaurants, Sushi Bars, Japanese   \n\n                    review_id                 user_id  review_stars  \\\n8502   q8hSvsGH8RZIIFvWPNxwgA  AkQlUUSHD0UFz1XuEqZryA             5   \n16809  K3CNaULOP2hZADOk9j-fxQ  mNYQl3d2wFDWZiZa7VD6og             4   \n12842  W-ZJM7i0fLpQrvfFEcQF4Q  ZsErYjyHiW0QBMrBH7qNUA             5   \n\n                                                    text  \n8502   What a treat! Went here last year to splurge o...  \n16809  I wanted Aburi sushi for dinner and saw on Yel...  \n12842  I accidentally found this gem. Who would think...  ",
      "text/html": "<div>\n<style scoped>\n    .dataframe tbody tr th:only-of-type {\n        vertical-align: middle;\n    }\n\n    .dataframe tbody tr th {\n        vertical-align: top;\n    }\n\n    .dataframe thead th {\n        text-align: right;\n    }\n</style>\n<table border=\"1\" class=\"dataframe\">\n  <thead>\n    <tr style=\"text-align: right;\">\n      <th></th>\n      <th>business_id</th>\n      <th>name</th>\n      <th>address</th>\n      <th>city</th>\n      <th>state</th>\n      <th>stars</th>\n      <th>review_count</th>\n      <th>is_open</th>\n      <th>attributes</th>\n      <th>categories</th>\n      <th>review_id</th>\n      <th>user_id</th>\n      <th>review_stars</th>\n      <th>text</th>\n    </tr>\n  </thead>\n  <tbody>\n    <tr>\n      <th>8502</th>\n      <td>4EV_ZcQmjAmP3pmO-_nb2A</td>\n      <td>Miku</td>\n      <td>200 Granville Street, Suite 70</td>\n      <td>Vancouver</td>\n      <td>BC</td>\n      <td>4.5</td>\n      <td>1805</td>\n      <td>1</td>\n      <td>{'RestaurantsAttire': ''casual'', 'BikeParking...</td>\n      <td>Japanese, Sushi Bars, Restaurants</td>\n      <td>q8hSvsGH8RZIIFvWPNxwgA</td>\n      <td>AkQlUUSHD0UFz1XuEqZryA</td>\n      <td>5</td>\n      <td>What a treat! Went here last year to splurge o...</td>\n    </tr>\n    <tr>\n      <th>16809</th>\n      <td>8HH7xRjmjwzkhADZWir_Cw</td>\n      <td>Black Rice Izakaya</td>\n      <td>782 Cambie Street</td>\n      <td>Vancouver</td>\n      <td>BC</td>\n      <td>4.0</td>\n      <td>238</td>\n      <td>1</td>\n      <td>{'WiFi': 'u'free'', 'RestaurantsPriceRange2': ...</td>\n      <td>Tapas Bars, Restaurants, Tapas/Small Plates, J...</td>\n      <td>K3CNaULOP2hZADOk9j-fxQ</td>\n      <td>mNYQl3d2wFDWZiZa7VD6og</td>\n      <td>4</td>\n      <td>I wanted Aburi sushi for dinner and saw on Yel...</td>\n    </tr>\n    <tr>\n      <th>12842</th>\n      <td>I0r8kMimYW2BY6lINcZRFA</td>\n      <td>Kishimoto Japanese Kitchen</td>\n      <td>2054 Commercial Drive</td>\n      <td>Vancouver</td>\n      <td>BC</td>\n      <td>4.5</td>\n      <td>469</td>\n      <td>1</td>\n      <td>{'HasTV': 'False', 'WiFi': 'u'no'', 'Alcohol':...</td>\n      <td>Restaurants, Sushi Bars, Japanese</td>\n      <td>W-ZJM7i0fLpQrvfFEcQF4Q</td>\n      <td>ZsErYjyHiW0QBMrBH7qNUA</td>\n      <td>5</td>\n      <td>I accidentally found this gem. Who would think...</td>\n    </tr>\n  </tbody>\n</table>\n</div>"
     },
     "execution_count": 13,
     "metadata": {},
     "output_type": "execute_result"
    }
   ],
   "source": [
    "# After trimming down the review file, concatenate all relevant data back to one dataframe\n",
    "df = pd.concat(chunk_list, ignore_index=True, join='outer', axis=0)\n",
    "df.sample(3)"
   ],
   "metadata": {
    "collapsed": false,
    "pycharm": {
     "name": "#%%\n"
    }
   }
  },
  {
   "cell_type": "code",
   "execution_count": 14,
   "outputs": [],
   "source": [
    "#Convert dataframe to csv\n",
    "df.to_csv(\"yelp_reviews_restaurants.csv\", index=False)\n"
   ],
   "metadata": {
    "collapsed": false,
    "pycharm": {
     "name": "#%%\n"
    }
   }
  }
 ],
 "metadata": {
  "kernelspec": {
   "display_name": "Python 3",
   "language": "python",
   "name": "python3"
  },
  "language_info": {
   "codemirror_mode": {
    "name": "ipython",
    "version": 2
   },
   "file_extension": ".py",
   "mimetype": "text/x-python",
   "name": "python",
   "nbconvert_exporter": "python",
   "pygments_lexer": "ipython2",
   "version": "2.7.6"
  }
 },
 "nbformat": 4,
 "nbformat_minor": 0
}